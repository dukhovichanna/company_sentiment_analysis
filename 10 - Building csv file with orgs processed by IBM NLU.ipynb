{
 "cells": [
  {
   "cell_type": "code",
   "execution_count": 30,
   "metadata": {},
   "outputs": [],
   "source": [
    "import json\n",
    "import csv\n",
    "import pandas as pd"
   ]
  },
  {
   "cell_type": "markdown",
   "metadata": {},
   "source": [
    "### Reding file with results from IBM NLU API"
   ]
  },
  {
   "cell_type": "code",
   "execution_count": 4,
   "metadata": {},
   "outputs": [],
   "source": [
    "IBM_orgs = pd.read_json('IBM_API_test.json')"
   ]
  },
  {
   "cell_type": "code",
   "execution_count": 5,
   "metadata": {},
   "outputs": [],
   "source": [
    "IBM_orgs = IBM_orgs.transpose()"
   ]
  },
  {
   "cell_type": "code",
   "execution_count": 6,
   "metadata": {},
   "outputs": [
    {
     "data": {
      "text/html": [
       "<div>\n",
       "<style scoped>\n",
       "    .dataframe tbody tr th:only-of-type {\n",
       "        vertical-align: middle;\n",
       "    }\n",
       "\n",
       "    .dataframe tbody tr th {\n",
       "        vertical-align: top;\n",
       "    }\n",
       "\n",
       "    .dataframe thead th {\n",
       "        text-align: right;\n",
       "    }\n",
       "</style>\n",
       "<table border=\"1\" class=\"dataframe\">\n",
       "  <thead>\n",
       "    <tr style=\"text-align: right;\">\n",
       "      <th></th>\n",
       "      <th>usage</th>\n",
       "      <th>language</th>\n",
       "      <th>entities</th>\n",
       "    </tr>\n",
       "  </thead>\n",
       "  <tbody>\n",
       "    <tr>\n",
       "      <th>24b2f68676625fbd2d904134870932e6303ff725</th>\n",
       "      <td>{'text_units': 1, 'text_characters': 3958, 'fe...</td>\n",
       "      <td>en</td>\n",
       "      <td>[{'type': 'Location', 'text': 'U.S.', 'sentime...</td>\n",
       "    </tr>\n",
       "    <tr>\n",
       "      <th>491bfeb15f74c8d9fc62e590a0b7c280132d6947</th>\n",
       "      <td>{'text_units': 1, 'text_characters': 3433, 'fe...</td>\n",
       "      <td>en</td>\n",
       "      <td>[{'type': 'Organization', 'text': 'CDC', 'sent...</td>\n",
       "    </tr>\n",
       "    <tr>\n",
       "      <th>e55720bad665803d8ed4bf9b54fc5bb42cdbc7d7</th>\n",
       "      <td>{'text_units': 1, 'text_characters': 4616, 'fe...</td>\n",
       "      <td>en</td>\n",
       "      <td>[{'type': 'Location', 'text': 'U.S.', 'sentime...</td>\n",
       "    </tr>\n",
       "    <tr>\n",
       "      <th>6bfc25b56b8b1b673f742ad3f33066a7a2c69664</th>\n",
       "      <td>{'text_units': 1, 'text_characters': 3128, 'fe...</td>\n",
       "      <td>en</td>\n",
       "      <td>[{'type': 'Company', 'text': 'EMCOR Group, Inc...</td>\n",
       "    </tr>\n",
       "    <tr>\n",
       "      <th>3851387b8f7f719237bca369e23b96433a98d754</th>\n",
       "      <td>{'text_units': 1, 'text_characters': 4446, 'fe...</td>\n",
       "      <td>en</td>\n",
       "      <td>[{'type': 'Company', 'text': 'Samsung', 'senti...</td>\n",
       "    </tr>\n",
       "    <tr>\n",
       "      <th>...</th>\n",
       "      <td>...</td>\n",
       "      <td>...</td>\n",
       "      <td>...</td>\n",
       "    </tr>\n",
       "    <tr>\n",
       "      <th>e84fb39b70600f2c9244d421d8e008bb71a6ebeb</th>\n",
       "      <td>{'text_units': 1, 'text_characters': 4048, 'fe...</td>\n",
       "      <td>en</td>\n",
       "      <td>[{'type': 'Quantity', 'text': '20 percent', 's...</td>\n",
       "    </tr>\n",
       "    <tr>\n",
       "      <th>6e1f97988b4310b2a781437d988c4220c7aeada1</th>\n",
       "      <td>{'text_units': 1, 'text_characters': 3433, 'fe...</td>\n",
       "      <td>en</td>\n",
       "      <td>[{'type': 'Company', 'text': 'Reuters', 'senti...</td>\n",
       "    </tr>\n",
       "    <tr>\n",
       "      <th>9150e5a4124967417acd9bbc2ef4e59d71032bcc</th>\n",
       "      <td>{'text_units': 1, 'text_characters': 3519, 'fe...</td>\n",
       "      <td>en</td>\n",
       "      <td>[{'type': 'Company', 'text': 'Kinetica', 'sent...</td>\n",
       "    </tr>\n",
       "    <tr>\n",
       "      <th>7e196384ea45e05a0829eddac2ae3814cf25c008</th>\n",
       "      <td>{'text_units': 1, 'text_characters': 4538, 'fe...</td>\n",
       "      <td>en</td>\n",
       "      <td>[{'type': 'Company', 'text': 'Weinstein Compan...</td>\n",
       "    </tr>\n",
       "    <tr>\n",
       "      <th>08f5a683b3166b17e1b922b382d420e061d5bec0</th>\n",
       "      <td>{'text_units': 1, 'text_characters': 4523, 'fe...</td>\n",
       "      <td>en</td>\n",
       "      <td>[{'type': 'Person', 'text': 'Jim Watt', 'senti...</td>\n",
       "    </tr>\n",
       "  </tbody>\n",
       "</table>\n",
       "<p>300 rows × 3 columns</p>\n",
       "</div>"
      ],
      "text/plain": [
       "                                                                                      usage  \\\n",
       "24b2f68676625fbd2d904134870932e6303ff725  {'text_units': 1, 'text_characters': 3958, 'fe...   \n",
       "491bfeb15f74c8d9fc62e590a0b7c280132d6947  {'text_units': 1, 'text_characters': 3433, 'fe...   \n",
       "e55720bad665803d8ed4bf9b54fc5bb42cdbc7d7  {'text_units': 1, 'text_characters': 4616, 'fe...   \n",
       "6bfc25b56b8b1b673f742ad3f33066a7a2c69664  {'text_units': 1, 'text_characters': 3128, 'fe...   \n",
       "3851387b8f7f719237bca369e23b96433a98d754  {'text_units': 1, 'text_characters': 4446, 'fe...   \n",
       "...                                                                                     ...   \n",
       "e84fb39b70600f2c9244d421d8e008bb71a6ebeb  {'text_units': 1, 'text_characters': 4048, 'fe...   \n",
       "6e1f97988b4310b2a781437d988c4220c7aeada1  {'text_units': 1, 'text_characters': 3433, 'fe...   \n",
       "9150e5a4124967417acd9bbc2ef4e59d71032bcc  {'text_units': 1, 'text_characters': 3519, 'fe...   \n",
       "7e196384ea45e05a0829eddac2ae3814cf25c008  {'text_units': 1, 'text_characters': 4538, 'fe...   \n",
       "08f5a683b3166b17e1b922b382d420e061d5bec0  {'text_units': 1, 'text_characters': 4523, 'fe...   \n",
       "\n",
       "                                         language  \\\n",
       "24b2f68676625fbd2d904134870932e6303ff725       en   \n",
       "491bfeb15f74c8d9fc62e590a0b7c280132d6947       en   \n",
       "e55720bad665803d8ed4bf9b54fc5bb42cdbc7d7       en   \n",
       "6bfc25b56b8b1b673f742ad3f33066a7a2c69664       en   \n",
       "3851387b8f7f719237bca369e23b96433a98d754       en   \n",
       "...                                           ...   \n",
       "e84fb39b70600f2c9244d421d8e008bb71a6ebeb       en   \n",
       "6e1f97988b4310b2a781437d988c4220c7aeada1       en   \n",
       "9150e5a4124967417acd9bbc2ef4e59d71032bcc       en   \n",
       "7e196384ea45e05a0829eddac2ae3814cf25c008       en   \n",
       "08f5a683b3166b17e1b922b382d420e061d5bec0       en   \n",
       "\n",
       "                                                                                   entities  \n",
       "24b2f68676625fbd2d904134870932e6303ff725  [{'type': 'Location', 'text': 'U.S.', 'sentime...  \n",
       "491bfeb15f74c8d9fc62e590a0b7c280132d6947  [{'type': 'Organization', 'text': 'CDC', 'sent...  \n",
       "e55720bad665803d8ed4bf9b54fc5bb42cdbc7d7  [{'type': 'Location', 'text': 'U.S.', 'sentime...  \n",
       "6bfc25b56b8b1b673f742ad3f33066a7a2c69664  [{'type': 'Company', 'text': 'EMCOR Group, Inc...  \n",
       "3851387b8f7f719237bca369e23b96433a98d754  [{'type': 'Company', 'text': 'Samsung', 'senti...  \n",
       "...                                                                                     ...  \n",
       "e84fb39b70600f2c9244d421d8e008bb71a6ebeb  [{'type': 'Quantity', 'text': '20 percent', 's...  \n",
       "6e1f97988b4310b2a781437d988c4220c7aeada1  [{'type': 'Company', 'text': 'Reuters', 'senti...  \n",
       "9150e5a4124967417acd9bbc2ef4e59d71032bcc  [{'type': 'Company', 'text': 'Kinetica', 'sent...  \n",
       "7e196384ea45e05a0829eddac2ae3814cf25c008  [{'type': 'Company', 'text': 'Weinstein Compan...  \n",
       "08f5a683b3166b17e1b922b382d420e061d5bec0  [{'type': 'Person', 'text': 'Jim Watt', 'senti...  \n",
       "\n",
       "[300 rows x 3 columns]"
      ]
     },
     "execution_count": 6,
     "metadata": {},
     "output_type": "execute_result"
    }
   ],
   "source": [
    "IBM_orgs"
   ]
  },
  {
   "cell_type": "code",
   "execution_count": 7,
   "metadata": {},
   "outputs": [],
   "source": [
    "IBM_orgs.reset_index(inplace=True)"
   ]
  },
  {
   "cell_type": "code",
   "execution_count": 10,
   "metadata": {},
   "outputs": [],
   "source": [
    "IBM_orgs = IBM_orgs.rename(columns = {'index':'uuid'})"
   ]
  },
  {
   "cell_type": "markdown",
   "metadata": {},
   "source": [
    "### Analyzing 'entities' column in IBM_orgs df"
   ]
  },
  {
   "cell_type": "code",
   "execution_count": 16,
   "metadata": {},
   "outputs": [
    {
     "data": {
      "text/plain": [
       "[{'type': 'Company',\n",
       "  'text': 'First Standard Financial',\n",
       "  'sentiment': {'score': 0.834453, 'label': 'positive'},\n",
       "  'relevance': 0.462785,\n",
       "  'count': 1,\n",
       "  'confidence': 0.909454},\n",
       " {'type': 'Company',\n",
       "  'text': 'Commonwealth Foreign Exchange',\n",
       "  'sentiment': {'score': -0.915308, 'label': 'negative'},\n",
       "  'relevance': 0.294848,\n",
       "  'count': 1,\n",
       "  'confidence': 0.492888},\n",
       " {'type': 'Company',\n",
       "  'text': 'Reuters',\n",
       "  'sentiment': {'score': 0.855803, 'label': 'positive'},\n",
       "  'relevance': 0.273569,\n",
       "  'disambiguation': {'name': 'Reuters',\n",
       "   'dbpedia_resource': 'http://dbpedia.org/resource/Reuters'},\n",
       "  'count': 1,\n",
       "  'confidence': 0.919072},\n",
       " {'type': 'Company',\n",
       "  'text': 'Spot gold',\n",
       "  'sentiment': {'score': 0.932878, 'label': 'positive'},\n",
       "  'relevance': 0.066165,\n",
       "  'count': 1,\n",
       "  'confidence': 0.307543}]"
      ]
     },
     "execution_count": 16,
     "metadata": {},
     "output_type": "execute_result"
    }
   ],
   "source": [
    "[d for d in IBM_orgs.entities[0] if d.get('type') == 'Company']"
   ]
  },
  {
   "cell_type": "markdown",
   "metadata": {},
   "source": [
    "### Creating orsg_IBM.csv file"
   ]
  },
  {
   "cell_type": "code",
   "execution_count": 55,
   "metadata": {},
   "outputs": [],
   "source": [
    "orgs_file = 'orgs_IBM.csv'\n",
    "orgs_headers = ['uuid','organization','sentiment_score','sentiment_label','org_relevance','org_count','confidence']"
   ]
  },
  {
   "cell_type": "code",
   "execution_count": 72,
   "metadata": {},
   "outputs": [],
   "source": [
    "with open(orgs_file,'w',encoding=\"utf-8\",newline=\"\") as csv_doc:\n",
    "    writer = csv.DictWriter(csv_doc, fieldnames=orgs_headers)\n",
    "    writer.writeheader()"
   ]
  },
  {
   "cell_type": "code",
   "execution_count": 73,
   "metadata": {},
   "outputs": [
    {
     "name": "stdout",
     "output_type": "stream",
     "text": [
      "24b2f68676625fbd2d904134870932e6303ff725 - {'type': 'Company', 'text': 'First Standard Financial', 'sentiment': {'score': 0.834453, 'label': 'positive'}, 'relevance': 0.462785, 'count': 1, 'confidence': 0.909454}\n",
      "24b2f68676625fbd2d904134870932e6303ff725 - {'type': 'Company', 'text': 'Commonwealth Foreign Exchange', 'sentiment': {'score': -0.915308, 'label': 'negative'}, 'relevance': 0.294848, 'count': 1, 'confidence': 0.492888}\n",
      "24b2f68676625fbd2d904134870932e6303ff725 - {'type': 'Company', 'text': 'Reuters', 'sentiment': {'score': 0.855803, 'label': 'positive'}, 'relevance': 0.273569, 'disambiguation': {'name': 'Reuters', 'dbpedia_resource': 'http://dbpedia.org/resource/Reuters'}, 'count': 1, 'confidence': 0.919072}\n",
      "24b2f68676625fbd2d904134870932e6303ff725 - {'type': 'Company', 'text': 'Spot gold', 'sentiment': {'score': 0.932878, 'label': 'positive'}, 'relevance': 0.066165, 'count': 1, 'confidence': 0.307543}\n",
      "491bfeb15f74c8d9fc62e590a0b7c280132d6947 - {'type': 'Company', 'text': 'Reuters', 'sentiment': {'score': -0.629471, 'label': 'negative'}, 'relevance': 0.464005, 'disambiguation': {'name': 'Reuters', 'dbpedia_resource': 'http://dbpedia.org/resource/Reuters'}, 'count': 3, 'confidence': 0.99994}\n",
      "491bfeb15f74c8d9fc62e590a0b7c280132d6947 - {'type': 'Company', 'text': 'Japan Tobacco Inc', 'sentiment': {'score': 0, 'label': 'neutral'}, 'relevance': 0.34756699999999996, 'count': 1, 'confidence': 0.70001}\n",
      "491bfeb15f74c8d9fc62e590a0b7c280132d6947 - {'type': 'Company', 'text': 'Merck & Co Inc', 'sentiment': {'score': 0, 'label': 'neutral'}, 'relevance': 0.344899, 'count': 1, 'confidence': 0.910596}\n",
      "491bfeb15f74c8d9fc62e590a0b7c280132d6947 - {'type': 'Company', 'text': 'Humana Inc', 'sentiment': {'score': 0, 'label': 'neutral'}, 'relevance': 0.342761, 'count': 1, 'confidence': 0.993934}\n",
      "491bfeb15f74c8d9fc62e590a0b7c280132d6947 - {'type': 'Company', 'text': 'Bayer AG', 'sentiment': {'score': -0.615707, 'label': 'negative'}, 'relevance': 0.230992, 'disambiguation': {'subtype': ['Organization', 'Brand'], 'name': 'Bayer', 'dbpedia_resource': 'http://dbpedia.org/resource/Bayer'}, 'count': 1, 'confidence': 0.669504}\n",
      "e55720bad665803d8ed4bf9b54fc5bb42cdbc7d7 - {'type': 'Company', 'text': 'UBS Wealth Management', 'sentiment': {'score': 0.666708, 'label': 'positive'}, 'relevance': 0.488151, 'disambiguation': {'name': 'UBS', 'dbpedia_resource': 'http://dbpedia.org/resource/UBS'}, 'count': 1, 'confidence': 0.544639}\n",
      "e55720bad665803d8ed4bf9b54fc5bb42cdbc7d7 - {'type': 'Company', 'text': 'FX Strategy', 'sentiment': {'score': -0.612958, 'label': 'negative'}, 'relevance': 0.363913, 'count': 1, 'confidence': 0.36441399999999996}\n",
      "e55720bad665803d8ed4bf9b54fc5bb42cdbc7d7 - {'type': 'Company', 'text': 'BNP Paribas', 'sentiment': {'score': 0.47975199999999996, 'label': 'positive'}, 'relevance': 0.351219, 'disambiguation': {'name': 'BNP_Paribas', 'dbpedia_resource': 'http://dbpedia.org/resource/BNP_Paribas'}, 'count': 1, 'confidence': 0.783623}\n",
      "e55720bad665803d8ed4bf9b54fc5bb42cdbc7d7 - {'type': 'Company', 'text': 'Schroders', 'sentiment': {'score': -0.629973, 'label': 'negative'}, 'relevance': 0.27081099999999997, 'disambiguation': {'name': 'Schroders', 'dbpedia_resource': 'http://dbpedia.org/resource/Schroders'}, 'count': 1, 'confidence': 0.999324}\n",
      "e55720bad665803d8ed4bf9b54fc5bb42cdbc7d7 - {'type': 'Company', 'text': 'TD Securities', 'sentiment': {'score': 0, 'label': 'neutral'}, 'relevance': 0.260802, 'disambiguation': {'subtype': ['Organization'], 'name': 'TD_Securities', 'dbpedia_resource': 'http://dbpedia.org/resource/TD_Securities'}, 'count': 1, 'confidence': 0.562272}\n",
      "e55720bad665803d8ed4bf9b54fc5bb42cdbc7d7 - {'type': 'Company', 'text': 'Bank of Canada', 'sentiment': {'score': -0.6984009999999999, 'label': 'negative'}, 'relevance': 0.24010099999999998, 'disambiguation': {'subtype': ['Organization'], 'name': 'Bank_of_Canada', 'dbpedia_resource': 'http://dbpedia.org/resource/Bank_of_Canada'}, 'count': 1, 'confidence': 0.8569859999999999}\n",
      "e55720bad665803d8ed4bf9b54fc5bb42cdbc7d7 - {'type': 'Company', 'text': 'Natixis', 'sentiment': {'score': 0, 'label': 'neutral'}, 'relevance': 0.17787000000000003, 'disambiguation': {'name': 'Natixis', 'dbpedia_resource': 'http://dbpedia.org/resource/Natixis'}, 'count': 1, 'confidence': 0.6874239999999999}\n"
     ]
    }
   ],
   "source": [
    "with open (orgs_file,'a',encoding=\"utf-8\",newline=\"\") as csv_org:\n",
    "            writer_org = csv.DictWriter(csv_org, fieldnames=orgs_headers)\n",
    "            for ind in IBM_orgs_small.index:\n",
    "                for d in IBM_orgs_small.iloc[ind]['entities']:\n",
    "                    if d.get('type') == 'Company':\n",
    "                        print(f'{IBM_orgs_small.iloc[ind].uuid} - {d}')\n",
    "                        writer_org.writerow({'uuid': IBM_orgs_small.iloc[ind].uuid,\n",
    "                                             'organization': d.get('text'),\n",
    "                                            'sentiment_score': d.get('sentiment').get('score'),                                            \n",
    "                                            'sentiment_label': d.get('sentiment').get('label'),\n",
    "                                            'org_relevance': d.get('relevance'),\n",
    "                                            'org_count': d.get('count'),\n",
    "                                            'confidence': d.get('confidence')\n",
    "                                                })"
   ]
  },
  {
   "cell_type": "code",
   "execution_count": 59,
   "metadata": {},
   "outputs": [],
   "source": [
    "docs = pd.read_csv('docs_api_test.csv')"
   ]
  },
  {
   "cell_type": "code",
   "execution_count": 76,
   "metadata": {},
   "outputs": [
    {
     "data": {
      "text/plain": [
       "'January 31, 2018 / 9:08 PM / Updated 35 minutes ago U.S. public health chief quits over financial conflicts Julie Steenhuysen 3 Min Read \\n(Reuters) - The head of the leading U.S. public health agency has resigned because of financial conflicts of interest that documents showed included purchases of tobacco and healthcare stocks while in office. \\nDr. Brenda Fitzgerald, director of the U.S. Centers for Disease Control and Prevention, held “certain complex financial interests” that she could not sell in time, forcing her to recuse herself from many public health duties, a Department of Health and Human Services statement said on Wednesday. \\nA physician and former commissioner of the Georgia Department of Public Health, Fitzgerald is the second high-profile health official in the year-old Republican Trump administration to leave over financial and ethical questions. \\nShe leaves as the country is dealing with its worst flu season in years. \\nDr. Anne Schuchat, CDC principal deputy director with 30 years at the agency, will take over until a new director is named, the CDC said in a statement. Schuchat is a former acting CDC director. \\nPolitico reported on Tuesday that Fitzgerald had traded in tobacco and healthcare stocks a month after Congress confirmed her appointment by Trump in July. Her financial disclosure report, released by Politico, showed she made purchases last August in shares of Japan Tobacco Inc, Merck & Co Inc, Humana Inc as well as ADRs of German drugmaker Bayer AG. Brenda Fitzgerald, MD, Director of the Centers for Disease Control and Prevention, is pictured in this undated handout photo obtained by Reuters January 31, 2018. Centers for Disease Control/Handout via REUTERS ATTENTION EDITORS - THIS IMAGE WAS PROVIDED BY A THIRD PARTY. - RC17521B8F90 \\nThe White House declined comment and referred questions to the Health and Human Services Department. \\nDemocratic U.S. Senator Patty Murray has repeatedly raised concerns about stock holdings which she said had interfered with Fitzgerald’s ability to advise on public health issues including cancer and the opioid epidemic. \\n“It is unacceptable that the person responsible for leading our nation’s public health efforts has, for months, been unable to fully engage in the critical work she was appointed to do,” Murray said in a statement on Wednesday. \\nIn December, Murray, the ranking Democrat on the Senate committee which oversees the CDC, urged Fitzgerald to resolve ongoing conflicts of interest. Murray said Fitzgerald’s conflicts had forced her to send deputies to testify at congressional hearings on the opioid crisis. \\nMurray said she hoped the newly confirmed HHS Secretary Alex Azar would encourage the president to choose a new director ”who is truly prepared to focus on families and communities.” \\nLast September, Trump’s first HHS secretary, former U.S. Representative Tom Price, resigned over his use of expensive taxpayer-funded private charter jets for government travel. \\nU.S. Representative Rosa DeLauro, ranking Democrat on the House appropriations subcommittee responsible for CDC funding, said Fitzgerald’s resignation “follows the pattern of Trump’s appointees, who put their own personal and financial interests ahead of the American people‘s.” Reporting by Julie Steenhuysen in Chicago; additional reporting by Ankur Banerjee in Bengaluru and Roberta Rampton in Washington; Editing by Jeffrey Benkoe and Howard Goller'"
      ]
     },
     "execution_count": 76,
     "metadata": {},
     "output_type": "execute_result"
    }
   ],
   "source": [
    "docs[docs['uuid'] == '491bfeb15f74c8d9fc62e590a0b7c280132d6947'].text[1]"
   ]
  },
  {
   "cell_type": "code",
   "execution_count": null,
   "metadata": {},
   "outputs": [],
   "source": []
  }
 ],
 "metadata": {
  "kernelspec": {
   "display_name": "env",
   "language": "python",
   "name": "env"
  },
  "language_info": {
   "codemirror_mode": {
    "name": "ipython",
    "version": 3
   },
   "file_extension": ".py",
   "mimetype": "text/x-python",
   "name": "python",
   "nbconvert_exporter": "python",
   "pygments_lexer": "ipython3",
   "version": "3.8.5"
  }
 },
 "nbformat": 4,
 "nbformat_minor": 2
}
