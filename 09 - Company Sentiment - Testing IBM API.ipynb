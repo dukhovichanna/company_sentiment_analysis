{
 "cells": [
  {
   "cell_type": "code",
   "execution_count": 17,
   "metadata": {},
   "outputs": [],
   "source": [
    "import pandas as pd\n",
    "import json\n",
    "from ibm_watson import NaturalLanguageUnderstandingV1\n",
    "from ibm_cloud_sdk_core.authenticators import IAMAuthenticator\n",
    "from ibm_watson.natural_language_understanding_v1 import Features, EntitiesOptions"
   ]
  },
  {
   "cell_type": "code",
   "execution_count": 60,
   "metadata": {},
   "outputs": [],
   "source": [
    "df_orig = pd.read_csv('docs_api_test.csv')"
   ]
  },
  {
   "cell_type": "code",
   "execution_count": 61,
   "metadata": {},
   "outputs": [
    {
     "data": {
      "text/html": [
       "<div>\n",
       "<style scoped>\n",
       "    .dataframe tbody tr th:only-of-type {\n",
       "        vertical-align: middle;\n",
       "    }\n",
       "\n",
       "    .dataframe tbody tr th {\n",
       "        vertical-align: top;\n",
       "    }\n",
       "\n",
       "    .dataframe thead th {\n",
       "        text-align: right;\n",
       "    }\n",
       "</style>\n",
       "<table border=\"1\" class=\"dataframe\">\n",
       "  <thead>\n",
       "    <tr style=\"text-align: right;\">\n",
       "      <th></th>\n",
       "      <th>uuid</th>\n",
       "      <th>site</th>\n",
       "      <th>author</th>\n",
       "      <th>url</th>\n",
       "      <th>title</th>\n",
       "      <th>text</th>\n",
       "      <th>published</th>\n",
       "      <th>crawled</th>\n",
       "      <th>num_sent</th>\n",
       "    </tr>\n",
       "  </thead>\n",
       "  <tbody>\n",
       "    <tr>\n",
       "      <th>0</th>\n",
       "      <td>24b2f68676625fbd2d904134870932e6303ff725</td>\n",
       "      <td>reuters.com</td>\n",
       "      <td>Reuters Editorial</td>\n",
       "      <td>https://www.reuters.com/article/global-markets...</td>\n",
       "      <td>GLOBAL MARKETS-World equity markets climb in n...</td>\n",
       "      <td>* U.S. stocks open higher, boosting global sha...</td>\n",
       "      <td>2018-01-03T01:01:00.000+02:00</td>\n",
       "      <td>2018-01-03T06:36:54.009+02:00</td>\n",
       "      <td>27</td>\n",
       "    </tr>\n",
       "    <tr>\n",
       "      <th>1</th>\n",
       "      <td>491bfeb15f74c8d9fc62e590a0b7c280132d6947</td>\n",
       "      <td>reuters.com</td>\n",
       "      <td>NaN</td>\n",
       "      <td>https://in.reuters.com/article/cdc-director/u-...</td>\n",
       "      <td>U.S. public health chief quits over financial ...</td>\n",
       "      <td>January 31, 2018 / 9:08 PM / Updated 35 minute...</td>\n",
       "      <td>2018-01-31T23:07:00.000+02:00</td>\n",
       "      <td>2018-01-31T23:49:17.000+02:00</td>\n",
       "      <td>18</td>\n",
       "    </tr>\n",
       "    <tr>\n",
       "      <th>2</th>\n",
       "      <td>e55720bad665803d8ed4bf9b54fc5bb42cdbc7d7</td>\n",
       "      <td>wsj.com</td>\n",
       "      <td>Ira Iosebashvili</td>\n",
       "      <td>https://www.wsj.com/articles/why-the-canadian-...</td>\n",
       "      <td>Why the Canadian Dollar and Mexican Peso Have ...</td>\n",
       "      <td>0 COMMENTS The currencies of Mexico and Canada...</td>\n",
       "      <td>2018-03-21T15:00:00.000+02:00</td>\n",
       "      <td>2018-03-21T19:34:15.000+02:00</td>\n",
       "      <td>33</td>\n",
       "    </tr>\n",
       "    <tr>\n",
       "      <th>3</th>\n",
       "      <td>6bfc25b56b8b1b673f742ad3f33066a7a2c69664</td>\n",
       "      <td>cnbc.com</td>\n",
       "      <td>cnbc.com</td>\n",
       "      <td>http://www.cnbc.com/2018/04/12/business-wire-e...</td>\n",
       "      <td>EMCOR Group, Inc. First Quarter Conference Cal...</td>\n",
       "      <td>NORWALK, Conn.--(BUSINESS WIRE)-- EMCOR Group,...</td>\n",
       "      <td>2018-04-12T16:00:00.000+03:00</td>\n",
       "      <td>2018-04-12T16:01:04.000+03:00</td>\n",
       "      <td>17</td>\n",
       "    </tr>\n",
       "    <tr>\n",
       "      <th>4</th>\n",
       "      <td>3851387b8f7f719237bca369e23b96433a98d754</td>\n",
       "      <td>reuters.com</td>\n",
       "      <td>NaN</td>\n",
       "      <td>https://uk.reuters.com/article/us-telecoms-mob...</td>\n",
       "      <td>Samsung launches Galaxy S9 with focus on socia...</td>\n",
       "      <td>February 25, 2018 / 5:07 PM / Updated 4 hours ...</td>\n",
       "      <td>2018-02-26T07:39:00.000+02:00</td>\n",
       "      <td>2018-02-26T08:35:20.009+02:00</td>\n",
       "      <td>25</td>\n",
       "    </tr>\n",
       "  </tbody>\n",
       "</table>\n",
       "</div>"
      ],
      "text/plain": [
       "                                       uuid         site             author  \\\n",
       "0  24b2f68676625fbd2d904134870932e6303ff725  reuters.com  Reuters Editorial   \n",
       "1  491bfeb15f74c8d9fc62e590a0b7c280132d6947  reuters.com                NaN   \n",
       "2  e55720bad665803d8ed4bf9b54fc5bb42cdbc7d7      wsj.com   Ira Iosebashvili   \n",
       "3  6bfc25b56b8b1b673f742ad3f33066a7a2c69664     cnbc.com           cnbc.com   \n",
       "4  3851387b8f7f719237bca369e23b96433a98d754  reuters.com                NaN   \n",
       "\n",
       "                                                 url  \\\n",
       "0  https://www.reuters.com/article/global-markets...   \n",
       "1  https://in.reuters.com/article/cdc-director/u-...   \n",
       "2  https://www.wsj.com/articles/why-the-canadian-...   \n",
       "3  http://www.cnbc.com/2018/04/12/business-wire-e...   \n",
       "4  https://uk.reuters.com/article/us-telecoms-mob...   \n",
       "\n",
       "                                               title  \\\n",
       "0  GLOBAL MARKETS-World equity markets climb in n...   \n",
       "1  U.S. public health chief quits over financial ...   \n",
       "2  Why the Canadian Dollar and Mexican Peso Have ...   \n",
       "3  EMCOR Group, Inc. First Quarter Conference Cal...   \n",
       "4  Samsung launches Galaxy S9 with focus on socia...   \n",
       "\n",
       "                                                text  \\\n",
       "0  * U.S. stocks open higher, boosting global sha...   \n",
       "1  January 31, 2018 / 9:08 PM / Updated 35 minute...   \n",
       "2  0 COMMENTS The currencies of Mexico and Canada...   \n",
       "3  NORWALK, Conn.--(BUSINESS WIRE)-- EMCOR Group,...   \n",
       "4  February 25, 2018 / 5:07 PM / Updated 4 hours ...   \n",
       "\n",
       "                       published                        crawled  num_sent  \n",
       "0  2018-01-03T01:01:00.000+02:00  2018-01-03T06:36:54.009+02:00        27  \n",
       "1  2018-01-31T23:07:00.000+02:00  2018-01-31T23:49:17.000+02:00        18  \n",
       "2  2018-03-21T15:00:00.000+02:00  2018-03-21T19:34:15.000+02:00        33  \n",
       "3  2018-04-12T16:00:00.000+03:00  2018-04-12T16:01:04.000+03:00        17  \n",
       "4  2018-02-26T07:39:00.000+02:00  2018-02-26T08:35:20.009+02:00        25  "
      ]
     },
     "execution_count": 61,
     "metadata": {},
     "output_type": "execute_result"
    }
   ],
   "source": [
    "df_orig.head()"
   ]
  },
  {
   "cell_type": "markdown",
   "metadata": {},
   "source": [
    "### Getting sentiment analysis for entities in text using IBM Natural Language Understaiding API"
   ]
  },
  {
   "cell_type": "markdown",
   "metadata": {},
   "source": [
    "It is not necessary to provide API key and URL as long as I have \"ibm-credentials.env\" file in the folder with the project"
   ]
  },
  {
   "cell_type": "code",
   "execution_count": null,
   "metadata": {},
   "outputs": [],
   "source": [
    "results = {}"
   ]
  },
  {
   "cell_type": "code",
   "execution_count": 20,
   "metadata": {},
   "outputs": [],
   "source": [
    "natural_language_understanding = NaturalLanguageUnderstandingV1(version='2020-08-01')"
   ]
  },
  {
   "cell_type": "code",
   "execution_count": 21,
   "metadata": {},
   "outputs": [],
   "source": [
    "response = natural_language_understanding.analyze(\n",
    "    text=test,\n",
    "    features=Features(entities=EntitiesOptions(sentiment=True))).get_result()"
   ]
  },
  {
   "cell_type": "markdown",
   "metadata": {},
   "source": [
    "I'm commenting out the start of the execution for the following two cells to avoid running them and using up API credits unintentionally"
   ]
  },
  {
   "cell_type": "code",
   "execution_count": 68,
   "metadata": {},
   "outputs": [],
   "source": [
    "#def get_results(df_row):\n",
    "    response = natural_language_understanding.analyze(\n",
    "        text=df_row.text,\n",
    "        features=Features(entities=EntitiesOptions(sentiment=True))).get_result()\n",
    "    results.update({df_row.uuid:response})"
   ]
  },
  {
   "cell_type": "code",
   "execution_count": 73,
   "metadata": {},
   "outputs": [
    {
     "name": "stdout",
     "output_type": "stream",
     "text": [
      "Wall time: 6min 40s\n"
     ]
    },
    {
     "data": {
      "text/plain": [
       "11     None\n",
       "12     None\n",
       "13     None\n",
       "14     None\n",
       "15     None\n",
       "       ... \n",
       "295    None\n",
       "296    None\n",
       "297    None\n",
       "298    None\n",
       "299    None\n",
       "Length: 289, dtype: object"
      ]
     },
     "execution_count": 73,
     "metadata": {},
     "output_type": "execute_result"
    }
   ],
   "source": [
    "%%time\n",
    "#df.apply(get_results, axis=1)"
   ]
  },
  {
   "cell_type": "markdown",
   "metadata": {},
   "source": [
    "### Writing results out to JSON file for further processing"
   ]
  },
  {
   "cell_type": "code",
   "execution_count": 75,
   "metadata": {},
   "outputs": [],
   "source": [
    "with open('IBM_API_test.json', 'w') as outfile:\n",
    "    json.dump(results, outfile)"
   ]
  },
  {
   "cell_type": "markdown",
   "metadata": {},
   "source": [
    "### Checking the results"
   ]
  },
  {
   "cell_type": "code",
   "execution_count": 76,
   "metadata": {},
   "outputs": [],
   "source": [
    "df_check = pd.read_json('IBM_API_test.json')"
   ]
  },
  {
   "cell_type": "code",
   "execution_count": 77,
   "metadata": {},
   "outputs": [],
   "source": [
    "df_check_transposed = df_check.transpose()"
   ]
  },
  {
   "cell_type": "code",
   "execution_count": 78,
   "metadata": {},
   "outputs": [
    {
     "data": {
      "text/html": [
       "<div>\n",
       "<style scoped>\n",
       "    .dataframe tbody tr th:only-of-type {\n",
       "        vertical-align: middle;\n",
       "    }\n",
       "\n",
       "    .dataframe tbody tr th {\n",
       "        vertical-align: top;\n",
       "    }\n",
       "\n",
       "    .dataframe thead th {\n",
       "        text-align: right;\n",
       "    }\n",
       "</style>\n",
       "<table border=\"1\" class=\"dataframe\">\n",
       "  <thead>\n",
       "    <tr style=\"text-align: right;\">\n",
       "      <th></th>\n",
       "      <th>usage</th>\n",
       "      <th>language</th>\n",
       "      <th>entities</th>\n",
       "    </tr>\n",
       "  </thead>\n",
       "  <tbody>\n",
       "    <tr>\n",
       "      <th>24b2f68676625fbd2d904134870932e6303ff725</th>\n",
       "      <td>{'text_units': 1, 'text_characters': 3958, 'fe...</td>\n",
       "      <td>en</td>\n",
       "      <td>[{'type': 'Location', 'text': 'U.S.', 'sentime...</td>\n",
       "    </tr>\n",
       "    <tr>\n",
       "      <th>491bfeb15f74c8d9fc62e590a0b7c280132d6947</th>\n",
       "      <td>{'text_units': 1, 'text_characters': 3433, 'fe...</td>\n",
       "      <td>en</td>\n",
       "      <td>[{'type': 'Organization', 'text': 'CDC', 'sent...</td>\n",
       "    </tr>\n",
       "    <tr>\n",
       "      <th>e55720bad665803d8ed4bf9b54fc5bb42cdbc7d7</th>\n",
       "      <td>{'text_units': 1, 'text_characters': 4616, 'fe...</td>\n",
       "      <td>en</td>\n",
       "      <td>[{'type': 'Location', 'text': 'U.S.', 'sentime...</td>\n",
       "    </tr>\n",
       "    <tr>\n",
       "      <th>6bfc25b56b8b1b673f742ad3f33066a7a2c69664</th>\n",
       "      <td>{'text_units': 1, 'text_characters': 3128, 'fe...</td>\n",
       "      <td>en</td>\n",
       "      <td>[{'type': 'Company', 'text': 'EMCOR Group, Inc...</td>\n",
       "    </tr>\n",
       "    <tr>\n",
       "      <th>3851387b8f7f719237bca369e23b96433a98d754</th>\n",
       "      <td>{'text_units': 1, 'text_characters': 4446, 'fe...</td>\n",
       "      <td>en</td>\n",
       "      <td>[{'type': 'Company', 'text': 'Samsung', 'senti...</td>\n",
       "    </tr>\n",
       "    <tr>\n",
       "      <th>...</th>\n",
       "      <td>...</td>\n",
       "      <td>...</td>\n",
       "      <td>...</td>\n",
       "    </tr>\n",
       "    <tr>\n",
       "      <th>e84fb39b70600f2c9244d421d8e008bb71a6ebeb</th>\n",
       "      <td>{'text_units': 1, 'text_characters': 4048, 'fe...</td>\n",
       "      <td>en</td>\n",
       "      <td>[{'type': 'Quantity', 'text': '20 percent', 's...</td>\n",
       "    </tr>\n",
       "    <tr>\n",
       "      <th>6e1f97988b4310b2a781437d988c4220c7aeada1</th>\n",
       "      <td>{'text_units': 1, 'text_characters': 3433, 'fe...</td>\n",
       "      <td>en</td>\n",
       "      <td>[{'type': 'Company', 'text': 'Reuters', 'senti...</td>\n",
       "    </tr>\n",
       "    <tr>\n",
       "      <th>9150e5a4124967417acd9bbc2ef4e59d71032bcc</th>\n",
       "      <td>{'text_units': 1, 'text_characters': 3519, 'fe...</td>\n",
       "      <td>en</td>\n",
       "      <td>[{'type': 'Company', 'text': 'Kinetica', 'sent...</td>\n",
       "    </tr>\n",
       "    <tr>\n",
       "      <th>7e196384ea45e05a0829eddac2ae3814cf25c008</th>\n",
       "      <td>{'text_units': 1, 'text_characters': 4538, 'fe...</td>\n",
       "      <td>en</td>\n",
       "      <td>[{'type': 'Company', 'text': 'Weinstein Compan...</td>\n",
       "    </tr>\n",
       "    <tr>\n",
       "      <th>08f5a683b3166b17e1b922b382d420e061d5bec0</th>\n",
       "      <td>{'text_units': 1, 'text_characters': 4523, 'fe...</td>\n",
       "      <td>en</td>\n",
       "      <td>[{'type': 'Person', 'text': 'Jim Watt', 'senti...</td>\n",
       "    </tr>\n",
       "  </tbody>\n",
       "</table>\n",
       "<p>300 rows × 3 columns</p>\n",
       "</div>"
      ],
      "text/plain": [
       "                                                                                      usage  \\\n",
       "24b2f68676625fbd2d904134870932e6303ff725  {'text_units': 1, 'text_characters': 3958, 'fe...   \n",
       "491bfeb15f74c8d9fc62e590a0b7c280132d6947  {'text_units': 1, 'text_characters': 3433, 'fe...   \n",
       "e55720bad665803d8ed4bf9b54fc5bb42cdbc7d7  {'text_units': 1, 'text_characters': 4616, 'fe...   \n",
       "6bfc25b56b8b1b673f742ad3f33066a7a2c69664  {'text_units': 1, 'text_characters': 3128, 'fe...   \n",
       "3851387b8f7f719237bca369e23b96433a98d754  {'text_units': 1, 'text_characters': 4446, 'fe...   \n",
       "...                                                                                     ...   \n",
       "e84fb39b70600f2c9244d421d8e008bb71a6ebeb  {'text_units': 1, 'text_characters': 4048, 'fe...   \n",
       "6e1f97988b4310b2a781437d988c4220c7aeada1  {'text_units': 1, 'text_characters': 3433, 'fe...   \n",
       "9150e5a4124967417acd9bbc2ef4e59d71032bcc  {'text_units': 1, 'text_characters': 3519, 'fe...   \n",
       "7e196384ea45e05a0829eddac2ae3814cf25c008  {'text_units': 1, 'text_characters': 4538, 'fe...   \n",
       "08f5a683b3166b17e1b922b382d420e061d5bec0  {'text_units': 1, 'text_characters': 4523, 'fe...   \n",
       "\n",
       "                                         language  \\\n",
       "24b2f68676625fbd2d904134870932e6303ff725       en   \n",
       "491bfeb15f74c8d9fc62e590a0b7c280132d6947       en   \n",
       "e55720bad665803d8ed4bf9b54fc5bb42cdbc7d7       en   \n",
       "6bfc25b56b8b1b673f742ad3f33066a7a2c69664       en   \n",
       "3851387b8f7f719237bca369e23b96433a98d754       en   \n",
       "...                                           ...   \n",
       "e84fb39b70600f2c9244d421d8e008bb71a6ebeb       en   \n",
       "6e1f97988b4310b2a781437d988c4220c7aeada1       en   \n",
       "9150e5a4124967417acd9bbc2ef4e59d71032bcc       en   \n",
       "7e196384ea45e05a0829eddac2ae3814cf25c008       en   \n",
       "08f5a683b3166b17e1b922b382d420e061d5bec0       en   \n",
       "\n",
       "                                                                                   entities  \n",
       "24b2f68676625fbd2d904134870932e6303ff725  [{'type': 'Location', 'text': 'U.S.', 'sentime...  \n",
       "491bfeb15f74c8d9fc62e590a0b7c280132d6947  [{'type': 'Organization', 'text': 'CDC', 'sent...  \n",
       "e55720bad665803d8ed4bf9b54fc5bb42cdbc7d7  [{'type': 'Location', 'text': 'U.S.', 'sentime...  \n",
       "6bfc25b56b8b1b673f742ad3f33066a7a2c69664  [{'type': 'Company', 'text': 'EMCOR Group, Inc...  \n",
       "3851387b8f7f719237bca369e23b96433a98d754  [{'type': 'Company', 'text': 'Samsung', 'senti...  \n",
       "...                                                                                     ...  \n",
       "e84fb39b70600f2c9244d421d8e008bb71a6ebeb  [{'type': 'Quantity', 'text': '20 percent', 's...  \n",
       "6e1f97988b4310b2a781437d988c4220c7aeada1  [{'type': 'Company', 'text': 'Reuters', 'senti...  \n",
       "9150e5a4124967417acd9bbc2ef4e59d71032bcc  [{'type': 'Company', 'text': 'Kinetica', 'sent...  \n",
       "7e196384ea45e05a0829eddac2ae3814cf25c008  [{'type': 'Company', 'text': 'Weinstein Compan...  \n",
       "08f5a683b3166b17e1b922b382d420e061d5bec0  [{'type': 'Person', 'text': 'Jim Watt', 'senti...  \n",
       "\n",
       "[300 rows x 3 columns]"
      ]
     },
     "execution_count": 78,
     "metadata": {},
     "output_type": "execute_result"
    }
   ],
   "source": [
    "df_check_transposed"
   ]
  }
 ],
 "metadata": {
  "kernelspec": {
   "display_name": "env",
   "language": "python",
   "name": "env"
  },
  "language_info": {
   "codemirror_mode": {
    "name": "ipython",
    "version": 3
   },
   "file_extension": ".py",
   "mimetype": "text/x-python",
   "name": "python",
   "nbconvert_exporter": "python",
   "pygments_lexer": "ipython3",
   "version": "3.8.5"
  }
 },
 "nbformat": 4,
 "nbformat_minor": 2
}
